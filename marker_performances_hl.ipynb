{
  "cells": [
    {
      "cell_type": "markdown",
      "metadata": {
        "id": "view-in-github",
        "colab_type": "text"
      },
      "source": [
        "<a href=\"https://colab.research.google.com/github/Gklimo/IHC-BERT/blob/main/marker_performances_hl.ipynb\" target=\"_parent\"><img src=\"https://colab.research.google.com/assets/colab-badge.svg\" alt=\"Open In Colab\"/></a>"
      ]
    },
    {
      "cell_type": "code",
      "execution_count": null,
      "metadata": {
        "id": "5cEh0y3uXXab"
      },
      "outputs": [],
      "source": [
        "import pandas as pd\n",
        "import numpy as np\n",
        "import seaborn as sn\n",
        "import matplotlib.pyplot as plt\n",
        "from matplotlib.colors import LogNorm\n",
        "from sklearn.metrics import f1_score, precision_score,recall_score"
      ]
    },
    {
      "cell_type": "code",
      "execution_count": null,
      "metadata": {
        "colab": {
          "base_uri": "https://localhost:8080/"
        },
        "id": "ndr2f1NkXyX_",
        "outputId": "63d41caf-66f4-4a0a-bdf0-562063139f14"
      },
      "outputs": [
        {
          "output_type": "stream",
          "name": "stdout",
          "text": [
            "Mounted at /content/drive\n"
          ]
        }
      ],
      "source": [
        "from google.colab import drive\n",
        "drive.mount('/content/drive')"
      ]
    },
    {
      "cell_type": "code",
      "execution_count": null,
      "metadata": {
        "id": "Q2OWhdO8Xvkz"
      },
      "outputs": [],
      "source": [
        "pr_all_rep = pd.read_csv('/content/drive/MyDrive/Colab_Notebooks/MSc_BERT/IHC_BERT/Fine-tuning/pr_all_rep_bert_descr_hl.csv')\n",
        "pr_all_rep_true = pd.read_excel('/content/drive/MyDrive/Colab_Notebooks/MSc_BERT/IHC_BERT/Fine-tuning/cHL_select_markers.xlsx')"
      ]
    },
    {
      "cell_type": "code",
      "execution_count": null,
      "metadata": {
        "id": "z1-GKdxUXx_b"
      },
      "outputs": [],
      "source": [
        "pr_all_rep=pr_all_rep.sort_values('specnum_formatted', ascending = True).reset_index().drop(['index'], axis=1)\n",
        "pr_all_rep_true=pr_all_rep_true.sort_values('specnum_formatted', ascending = True).reset_index().drop(['index'], axis=1)"
      ]
    },
    {
      "cell_type": "code",
      "source": [
        "pr_all_rep = pr_all_rep.rename(columns={'PAX':'PAX5'})"
      ],
      "metadata": {
        "id": "Ls5tYotrnImP"
      },
      "execution_count": null,
      "outputs": []
    },
    {
      "cell_type": "code",
      "source": [
        "pr_all_rep_true['PAX5'].unique()"
      ],
      "metadata": {
        "colab": {
          "base_uri": "https://localhost:8080/"
        },
        "id": "7oZjDSZqocI6",
        "outputId": "ab773072-4041-48a7-c43b-237b1a8abf07"
      },
      "execution_count": null,
      "outputs": [
        {
          "output_type": "execute_result",
          "data": {
            "text/plain": [
              "array([ 1.,  3.,  0., nan])"
            ]
          },
          "metadata": {},
          "execution_count": 6
        }
      ]
    },
    {
      "cell_type": "code",
      "execution_count": null,
      "metadata": {
        "id": "Nb42v3nxey7L"
      },
      "outputs": [],
      "source": [
        "tru_cols = list(pr_all_rep_true.columns)\n",
        "bert_cols = list(pr_all_rep.columns)"
      ]
    },
    {
      "cell_type": "code",
      "execution_count": null,
      "metadata": {
        "id": "5_0TGU3QKHGa"
      },
      "outputs": [],
      "source": [
        "del bert_cols[0]\n",
        "del bert_cols[0]\n",
        "del bert_cols[0]\n",
        "del bert_cols[0]\n",
        "del bert_cols[0]"
      ]
    },
    {
      "cell_type": "code",
      "execution_count": null,
      "metadata": {
        "id": "PuvdK4FAJ0jc"
      },
      "outputs": [],
      "source": [
        "del tru_cols[0]\n",
        "del tru_cols[0]\n",
        "del tru_cols[0]\n",
        "del tru_cols[0]\n",
        "del tru_cols[0]\n",
        "del tru_cols[0]\n",
        "del tru_cols[0]"
      ]
    },
    {
      "cell_type": "code",
      "execution_count": null,
      "metadata": {
        "colab": {
          "base_uri": "https://localhost:8080/"
        },
        "id": "7KtFPc6lKqEN",
        "outputId": "21f8a66e-d364-484b-baa0-7e4a955fdaf6"
      },
      "outputs": [
        {
          "output_type": "execute_result",
          "data": {
            "text/plain": [
              "['CD15', 'CD30', 'EBER', 'CD20', 'CD45', 'PAX5']"
            ]
          },
          "metadata": {},
          "execution_count": 153
        }
      ],
      "source": [
        "tru_cols"
      ]
    },
    {
      "cell_type": "code",
      "source": [
        "pr_all_rep = pr_all_rep.replace({0:'NEGATIVE',1:'POSITIVE',3:'NONE'})\n",
        "pr_all_rep_true = pr_all_rep_true.replace({0:'NEGATIVE',1:'POSITIVE',3:'NONE'})"
      ],
      "metadata": {
        "id": "RoUHgq7-WZtX"
      },
      "execution_count": null,
      "outputs": []
    },
    {
      "cell_type": "code",
      "source": [
        "not_pax_45 = ['CD15', 'CD30', 'EBER', 'CD20']"
      ],
      "metadata": {
        "id": "oQzRtmUkWwPE"
      },
      "execution_count": null,
      "outputs": []
    },
    {
      "cell_type": "code",
      "source": [
        "r = ['UH17-24401','UH17-6680','UH17-7900','UH17-9301']\n",
        "for i in r:\n",
        "  pr_all_rep=pr_all_rep[pr_all_rep['specnum_formatted']!=i]\n",
        "  pr_all_rep_true = pr_all_rep_true[pr_all_rep_true['specnum_formatted']!=i]"
      ],
      "metadata": {
        "id": "9A6GMkhu0-h_"
      },
      "execution_count": null,
      "outputs": []
    },
    {
      "cell_type": "code",
      "source": [
        "import seaborn as sn\n",
        "import matplotlib.pyplot as plt\n",
        "from matplotlib.colors import LogNorm\n",
        "from sklearn.metrics import f1_score, precision_score,recall_score\n",
        "results = pd.DataFrame(columns = ['Marker','Macro Precision','Macro Recall', 'Macro F1','Positive Precision','Positive Recall', 'Positive F1','Negative Precision','Negative Recall', 'Negative F1'])\n",
        "\n",
        "\n",
        "for b in tru_cols:\n",
        "\n",
        "\n",
        "    confusion_matrix = pd.crosstab(pr_all_rep_true[b], pr_all_rep[b],rownames=['Actual'], colnames=['Predicted'])\n",
        "    #print (confusion_matrix)\n",
        "    sn.heatmap(confusion_matrix, annot=True,norm=LogNorm())\n",
        "    plt.title(str(b)+' Confusion Matrix')\n",
        "    plt.show()\n",
        "\n",
        "    print(f'Performance metrics for {b}')\n",
        "    precision = precision_score(pr_all_rep_true[b],pr_all_rep[b], zero_division=0,average='macro',labels=['POSITIVE','NEGATIVE','NONE']) \n",
        "    precision1 = precision_score(pr_all_rep_true[b],pr_all_rep[b], zero_division=0,average='macro',labels=['NEGATIVE'])\n",
        "    precision2 = precision_score(pr_all_rep_true[b],pr_all_rep[b], zero_division=0,average='macro',labels=['POSITIVE'])\n",
        "    print('Precision score: {0:0.2f}'.format(precision))\n",
        "    #print('Precision score: {0:0.2f}'.format(precision1))\n",
        "    #print('Precision score: {0:0.2f}'.format(precision))\n",
        "\n",
        "    recall = recall_score(pr_all_rep_true[b],pr_all_rep[b], zero_division=0,average='macro',labels=['POSITIVE','NEGATIVE','NONE'])\n",
        "    recall1 = recall_score(pr_all_rep_true[b],pr_all_rep[b], zero_division=0,average='macro',labels=['NEGATIVE'])\n",
        "    recall2 = recall_score(pr_all_rep_true[b],pr_all_rep[b], zero_division=0,average='macro',labels=['POSITIVE'])\n",
        "    print('Recall score: {0:0.2f}'.format(recall))\n",
        "\n",
        "    f1 = f1_score(pr_all_rep_true[b],pr_all_rep[b], zero_division=0,average='macro',labels=['POSITIVE','NEGATIVE','NONE'])\n",
        "    f11 = f1_score(pr_all_rep_true[b],pr_all_rep[b], zero_division=0,average='macro',labels=['NEGATIVE'])\n",
        "    f12 = f1_score(pr_all_rep_true[b],pr_all_rep[b], zero_division=0,average='macro',labels=['POSITIVE'])\n",
        "    print('f1 scre: {0:0.2f}\\n'.format(f1))\n",
        "    df = pd.DataFrame({'Marker': [b],'Macro Precision' : [precision],'Macro Recall':[recall], 'Macro F1': [f1],\\\n",
        "                       'Positive Precision' : [precision2],'Positive Recall':[recall2], 'Positive F1': [f12],\\\n",
        "                       'Negative Precision' : [precision1],'Negative Recall':[recall1], 'Negative F1': [f11]})\n",
        "    results = results.append(df)\n"
      ],
      "metadata": {
        "colab": {
          "base_uri": "https://localhost:8080/",
          "height": 1000
        },
        "id": "iMVqlX8Ga2ky",
        "outputId": "017fbcb7-2767-4af9-99a9-2bf30eeff44b"
      },
      "execution_count": null,
      "outputs": [
        {
          "output_type": "display_data",
          "data": {
            "text/plain": [
              "<Figure size 432x288 with 2 Axes>"
            ],
            "image/png": "[encoded data removed]"
          },
          "metadata": {
            "needs_background": "light"
          }
        },
        {
          "output_type": "stream",
          "name": "stdout",
          "text": [
            "Performance metrics for CD15\n",
            "Precision score: 0.63\n",
            "Recall score: 0.52\n",
            "f1 scre: 0.27\n",
            "\n"
          ]
        },
        {
          "output_type": "display_data",
          "data": {
            "text/plain": [
              "<Figure size 432x288 with 2 Axes>"
            ],
            "image/png": "[encoded data removed]"
          },
          "metadata": {
            "needs_background": "light"
          }
        },
        {
          "output_type": "stream",
          "name": "stdout",
          "text": [
            "Performance metrics for CD30\n",
            "Precision score: 0.33\n",
            "Recall score: 0.29\n",
            "f1 scre: 0.31\n",
            "\n"
          ]
        },
        {
          "output_type": "display_data",
          "data": {
            "text/plain": [
              "<Figure size 432x288 with 2 Axes>"
            ],
            "image/png": "[encoded data removed]"
          },
          "metadata": {
            "needs_background": "light"
          }
        },
        {
          "output_type": "stream",
          "name": "stdout",
          "text": [
            "Performance metrics for EBER\n",
            "Precision score: 0.37\n",
            "Recall score: 0.36\n",
            "f1 scre: 0.10\n",
            "\n"
          ]
        },
        {
          "output_type": "display_data",
          "data": {
            "text/plain": [
              "<Figure size 432x288 with 2 Axes>"
            ],
            "image/png": "[encoded data removed]"
          },
          "metadata": {
            "needs_background": "light"
          }
        },
        {
          "output_type": "stream",
          "name": "stdout",
          "text": [
            "Performance metrics for CD20\n",
            "Precision score: 0.68\n",
            "Recall score: 0.49\n",
            "f1 scre: 0.25\n",
            "\n"
          ]
        },
        {
          "output_type": "display_data",
          "data": {
            "text/plain": [
              "<Figure size 432x288 with 2 Axes>"
            ],
            "image/png": "[encoded data removed]"
          },
          "metadata": {
            "needs_background": "light"
          }
        },
        {
          "output_type": "stream",
          "name": "stdout",
          "text": [
            "Performance metrics for CD45\n",
            "Precision score: 0.57\n",
            "Recall score: 0.47\n",
            "f1 scre: 0.47\n",
            "\n"
          ]
        },
        {
          "output_type": "display_data",
          "data": {
            "text/plain": [
              "<Figure size 432x288 with 2 Axes>"
            ],
            "image/png": "[encoded data removed]"
          },
          "metadata": {
            "needs_background": "light"
          }
        },
        {
          "output_type": "stream",
          "name": "stdout",
          "text": [
            "Performance metrics for PAX5\n",
            "Precision score: 0.34\n",
            "Recall score: 0.35\n",
            "f1 scre: 0.05\n",
            "\n"
          ]
        }
      ]
    },
    {
      "cell_type": "code",
      "source": [
        "results"
      ],
      "metadata": {
        "colab": {
          "base_uri": "https://localhost:8080/",
          "height": 319
        },
        "id": "JrDhqGjHGl-v",
        "outputId": "0809fa13-9ab9-4404-8cff-09ad681471d8"
      },
      "execution_count": null,
      "outputs": [
        {
          "output_type": "execute_result",
          "data": {
            "text/plain": [
              "  Marker  Macro Precision  Macro Recall  Macro F1  Positive Precision  \\\n",
              "0   CD15         0.628741      0.518817  0.272943                 1.0   \n",
              "0   CD30         0.333333      0.292181  0.311404                 1.0   \n",
              "0   EBER         0.365591      0.357143  0.103268                 0.0   \n",
              "0   CD20         0.676375      0.494315  0.247147                 1.0   \n",
              "0   CD45         0.570370      0.469697  0.470605                 0.0   \n",
              "0   PAX5         0.344156      0.350763  0.054091                 1.0   \n",
              "\n",
              "   Positive Recall  Positive F1  Negative Precision  Negative Recall  \\\n",
              "0         0.056452     0.106870            0.842105         0.500000   \n",
              "0         0.876543     0.934211            0.000000         0.000000   \n",
              "0         0.000000     0.000000            1.000000         0.071429   \n",
              "0         0.033333     0.064516            1.000000         0.449612   \n",
              "0         0.000000     0.000000            1.000000         0.409091   \n",
              "0         0.052288     0.099379            0.000000         0.000000   \n",
              "\n",
              "   Negative F1  \n",
              "0     0.627451  \n",
              "0     0.000000  \n",
              "0     0.133333  \n",
              "0     0.620321  \n",
              "0     0.580645  \n",
              "0     0.000000  "
            ],
            "text/html": [
              "\n",
              "  <div id=\"df-2f262d7f-70e4-4908-8c42-2c4781c11c80\">\n",
              "    <div class=\"colab-df-container\">\n",
              "      <div>\n",
              "<style scoped>\n",
              "    .dataframe tbody tr th:only-of-type {\n",
              "        vertical-align: middle;\n",
              "    }\n",
              "\n",
              "    .dataframe tbody tr th {\n",
              "        vertical-align: top;\n",
              "    }\n",
              "\n",
              "    .dataframe thead th {\n",
              "        text-align: right;\n",
              "    }\n",
              "</style>\n",
              "<table border=\"1\" class=\"dataframe\">\n",
              "  <thead>\n",
              "    <tr style=\"text-align: right;\">\n",
              "      <th></th>\n",
              "      <th>Marker</th>\n",
              "      <th>Macro Precision</th>\n",
              "      <th>Macro Recall</th>\n",
              "      <th>Macro F1</th>\n",
              "      <th>Positive Precision</th>\n",
              "      <th>Positive Recall</th>\n",
              "      <th>Positive F1</th>\n",
              "      <th>Negative Precision</th>\n",
              "      <th>Negative Recall</th>\n",
              "      <th>Negative F1</th>\n",
              "    </tr>\n",
              "  </thead>\n",
              "  <tbody>\n",
              "    <tr>\n",
              "      <th>0</th>\n",
              "      <td>CD15</td>\n",
              "      <td>0.628741</td>\n",
              "      <td>0.518817</td>\n",
              "      <td>0.272943</td>\n",
              "      <td>1.0</td>\n",
              "      <td>0.056452</td>\n",
              "      <td>0.106870</td>\n",
              "      <td>0.842105</td>\n",
              "      <td>0.500000</td>\n",
              "      <td>0.627451</td>\n",
              "    </tr>\n",
              "    <tr>\n",
              "      <th>0</th>\n",
              "      <td>CD30</td>\n",
              "      <td>0.333333</td>\n",
              "      <td>0.292181</td>\n",
              "      <td>0.311404</td>\n",
              "      <td>1.0</td>\n",
              "      <td>0.876543</td>\n",
              "      <td>0.934211</td>\n",
              "      <td>0.000000</td>\n",
              "      <td>0.000000</td>\n",
              "      <td>0.000000</td>\n",
              "    </tr>\n",
              "    <tr>\n",
              "      <th>0</th>\n",
              "      <td>EBER</td>\n",
              "      <td>0.365591</td>\n",
              "      <td>0.357143</td>\n",
              "      <td>0.103268</td>\n",
              "      <td>0.0</td>\n",
              "      <td>0.000000</td>\n",
              "      <td>0.000000</td>\n",
              "      <td>1.000000</td>\n",
              "      <td>0.071429</td>\n",
              "      <td>0.133333</td>\n",
              "    </tr>\n",
              "    <tr>\n",
              "      <th>0</th>\n",
              "      <td>CD20</td>\n",
              "      <td>0.676375</td>\n",
              "      <td>0.494315</td>\n",
              "      <td>0.247147</td>\n",
              "      <td>1.0</td>\n",
              "      <td>0.033333</td>\n",
              "      <td>0.064516</td>\n",
              "      <td>1.000000</td>\n",
              "      <td>0.449612</td>\n",
              "      <td>0.620321</td>\n",
              "    </tr>\n",
              "    <tr>\n",
              "      <th>0</th>\n",
              "      <td>CD45</td>\n",
              "      <td>0.570370</td>\n",
              "      <td>0.469697</td>\n",
              "      <td>0.470605</td>\n",
              "      <td>0.0</td>\n",
              "      <td>0.000000</td>\n",
              "      <td>0.000000</td>\n",
              "      <td>1.000000</td>\n",
              "      <td>0.409091</td>\n",
              "      <td>0.580645</td>\n",
              "    </tr>\n",
              "    <tr>\n",
              "      <th>0</th>\n",
              "      <td>PAX5</td>\n",
              "      <td>0.344156</td>\n",
              "      <td>0.350763</td>\n",
              "      <td>0.054091</td>\n",
              "      <td>1.0</td>\n",
              "      <td>0.052288</td>\n",
              "      <td>0.099379</td>\n",
              "      <td>0.000000</td>\n",
              "      <td>0.000000</td>\n",
              "      <td>0.000000</td>\n",
              "    </tr>\n",
              "  </tbody>\n",
              "</table>\n",
              "</div>\n",
              "      <button class=\"colab-df-convert\" onclick=\"convertToInteractive('df-2f262d7f-70e4-4908-8c42-2c4781c11c80')\"\n",
              "              title=\"Convert this dataframe to an interactive table.\"\n",
              "              style=\"display:none;\">\n",
              "        \n",
              "  <svg xmlns=\"http://www.w3.org/2000/svg\" height=\"24px\"viewBox=\"0 0 24 24\"\n",
              "       width=\"24px\">\n",
              "    <path d=\"M0 0h24v24H0V0z\" fill=\"none\"/>\n",
              "    <path d=\"M18.56 5.44l.94 2.06.94-2.06 2.06-.94-2.06-.94-.94-2.06-.94 2.06-2.06.94zm-11 1L8.5 8.5l.94-2.06 2.06-.94-2.06-.94L8.5 2.5l-.94 2.06-2.06.94zm10 10l.94 2.06.94-2.06 2.06-.94-2.06-.94-.94-2.06-.94 2.06-2.06.94z\"/><path d=\"M17.41 7.96l-1.37-1.37c-.4-.4-.92-.59-1.43-.59-.52 0-1.04.2-1.43.59L10.3 9.45l-7.72 7.72c-.78.78-.78 2.05 0 2.83L4 21.41c.39.39.9.59 1.41.59.51 0 1.02-.2 1.41-.59l7.78-7.78 2.81-2.81c.8-.78.8-2.07 0-2.86zM5.41 20L4 18.59l7.72-7.72 1.47 1.35L5.41 20z\"/>\n",
              "  </svg>\n",
              "      </button>\n",
              "      \n",
              "  <style>\n",
              "    .colab-df-container {\n",
              "      display:flex;\n",
              "      flex-wrap:wrap;\n",
              "      gap: 12px;\n",
              "    }\n",
              "\n",
              "    .colab-df-convert {\n",
              "      background-color: #E8F0FE;\n",
              "      border: none;\n",
              "      border-radius: 50%;\n",
              "      cursor: pointer;\n",
              "      display: none;\n",
              "      fill: #1967D2;\n",
              "      height: 32px;\n",
              "      padding: 0 0 0 0;\n",
              "      width: 32px;\n",
              "    }\n",
              "\n",
              "    .colab-df-convert:hover {\n",
              "      background-color: #E2EBFA;\n",
              "      box-shadow: 0px 1px 2px rgba(60, 64, 67, 0.3), 0px 1px 3px 1px rgba(60, 64, 67, 0.15);\n",
              "      fill: #174EA6;\n",
              "    }\n",
              "\n",
              "    [theme=dark] .colab-df-convert {\n",
              "      background-color: #3B4455;\n",
              "      fill: #D2E3FC;\n",
              "    }\n",
              "\n",
              "    [theme=dark] .colab-df-convert:hover {\n",
              "      background-color: #434B5C;\n",
              "      box-shadow: 0px 1px 3px 1px rgba(0, 0, 0, 0.15);\n",
              "      filter: drop-shadow(0px 1px 2px rgba(0, 0, 0, 0.3));\n",
              "      fill: #FFFFFF;\n",
              "    }\n",
              "  </style>\n",
              "\n",
              "      <script>\n",
              "        const buttonEl =\n",
              "          document.querySelector('#df-2f262d7f-70e4-4908-8c42-2c4781c11c80 button.colab-df-convert');\n",
              "        buttonEl.style.display =\n",
              "          google.colab.kernel.accessAllowed ? 'block' : 'none';\n",
              "\n",
              "        async function convertToInteractive(key) {\n",
              "          const element = document.querySelector('#df-2f262d7f-70e4-4908-8c42-2c4781c11c80');\n",
              "          const dataTable =\n",
              "            await google.colab.kernel.invokeFunction('convertToInteractive',\n",
              "                                                     [key], {});\n",
              "          if (!dataTable) return;\n",
              "\n",
              "          const docLinkHtml = 'Like what you see? Visit the ' +\n",
              "            '<a target=\"_blank\" href=https://colab.research.google.com/notebooks/data_table.ipynb>data table notebook</a>'\n",
              "            + ' to learn more about interactive tables.';\n",
              "          element.innerHTML = '';\n",
              "          dataTable['output_type'] = 'display_data';\n",
              "          await google.colab.output.renderOutput(dataTable, element);\n",
              "          const docLink = document.createElement('div');\n",
              "          docLink.innerHTML = docLinkHtml;\n",
              "          element.appendChild(docLink);\n",
              "        }\n",
              "      </script>\n",
              "    </div>\n",
              "  </div>\n",
              "  "
            ]
          },
          "metadata": {},
          "execution_count": 294
        }
      ]
    },
    {
      "cell_type": "code",
      "execution_count": null,
      "metadata": {
        "id": "v5LTe-BDTS8s"
      },
      "outputs": [],
      "source": [
        "#save performance by marker results\n",
        "results.sort_values('Macro F1', ascending = False).head(50)\n",
        "results.to_csv('/content/drive/MyDrive/Colab_Notebooks/MSc_BERT/IHC_BERT/Fine-tuning/marker_res_hl.csv')"
      ]
    },
    {
      "cell_type": "code",
      "source": [
        "all_counts = pd.DataFrame(columns = ['Status','Count'])\n",
        "for col in tru_cols:\n",
        "  \n",
        "  df = pd.DataFrame(pr_all_rep_true[col].value_counts(normalize = True).reset_index().values, columns = ['Status','Proportion|'])\n",
        "  df['Marker'] = col\n",
        "  print(df)\n",
        "  all_counts = all_counts.append(df[df['Status']=='POSITIVE']).reset_index(drop=True)\n",
        "  \n"
      ],
      "metadata": {
        "colab": {
          "base_uri": "https://localhost:8080/"
        },
        "id": "3r3hLm0AuBin",
        "outputId": "b09f20cf-dfa4-402c-e824-c183a4f1e83c"
      },
      "execution_count": null,
      "outputs": [
        {
          "output_type": "stream",
          "name": "stdout",
          "text": [
            "     Status Proportion| Marker\n",
            "0  POSITIVE    0.765432   CD15\n",
            "1  NEGATIVE    0.197531   CD15\n",
            "2      NONE    0.037037   CD15\n",
            "     Status Proportion| Marker\n",
            "0  POSITIVE         1.0   CD30\n",
            "     Status Proportion| Marker\n",
            "0  NEGATIVE    0.604938   EBER\n",
            "1  POSITIVE    0.302469   EBER\n",
            "2      NONE    0.092593   EBER\n",
            "     Status Proportion| Marker\n",
            "0  NEGATIVE    0.796296   CD20\n",
            "1  POSITIVE    0.185185   CD20\n",
            "2      NONE    0.018519   CD20\n",
            "     Status Proportion| Marker\n",
            "0      NONE    0.592593   CD45\n",
            "1  NEGATIVE    0.407407   CD45\n",
            "     Status Proportion| Marker\n",
            "0  POSITIVE    0.944444   PAX5\n",
            "1      NONE    0.030864   PAX5\n",
            "2  NEGATIVE    0.024691   PAX5\n"
          ]
        }
      ]
    },
    {
      "cell_type": "code",
      "source": [
        "all_counts_b = pd.DataFrame(columns = ['Status','Proportion'])\n",
        "for col in tru_cols:\n",
        "  \n",
        "  df = pd.DataFrame(pr_all_rep[col].value_counts(normalize = True).reset_index().values, columns = ['Status','Proportion'])\n",
        "  df['Marker'] = col\n",
        "\n",
        "  all_counts_b = all_counts_b.append(df[df['Status']=='POSITIVE']).reset_index(drop=True)\n",
        "all_counts_b  \n"
      ],
      "metadata": {
        "colab": {
          "base_uri": "https://localhost:8080/",
          "height": 175
        },
        "id": "etX1rbnXKxXF",
        "outputId": "fef00670-03e4-458d-92ea-04710d9ca0f7"
      },
      "execution_count": null,
      "outputs": [
        {
          "output_type": "execute_result",
          "data": {
            "text/plain": [
              "     Status Proportion Marker\n",
              "0  POSITIVE    0.04321   CD15\n",
              "1  POSITIVE   0.876543   CD30\n",
              "2  POSITIVE   0.006173   CD20\n",
              "3  POSITIVE   0.049383   PAX5"
            ],
            "text/html": [
              "\n",
              "  <div id=\"df-3cc04a9b-2ab3-46a1-84fd-7f9fc323e2da\">\n",
              "    <div class=\"colab-df-container\">\n",
              "      <div>\n",
              "<style scoped>\n",
              "    .dataframe tbody tr th:only-of-type {\n",
              "        vertical-align: middle;\n",
              "    }\n",
              "\n",
              "    .dataframe tbody tr th {\n",
              "        vertical-align: top;\n",
              "    }\n",
              "\n",
              "    .dataframe thead th {\n",
              "        text-align: right;\n",
              "    }\n",
              "</style>\n",
              "<table border=\"1\" class=\"dataframe\">\n",
              "  <thead>\n",
              "    <tr style=\"text-align: right;\">\n",
              "      <th></th>\n",
              "      <th>Status</th>\n",
              "      <th>Proportion</th>\n",
              "      <th>Marker</th>\n",
              "    </tr>\n",
              "  </thead>\n",
              "  <tbody>\n",
              "    <tr>\n",
              "      <th>0</th>\n",
              "      <td>POSITIVE</td>\n",
              "      <td>0.04321</td>\n",
              "      <td>CD15</td>\n",
              "    </tr>\n",
              "    <tr>\n",
              "      <th>1</th>\n",
              "      <td>POSITIVE</td>\n",
              "      <td>0.876543</td>\n",
              "      <td>CD30</td>\n",
              "    </tr>\n",
              "    <tr>\n",
              "      <th>2</th>\n",
              "      <td>POSITIVE</td>\n",
              "      <td>0.006173</td>\n",
              "      <td>CD20</td>\n",
              "    </tr>\n",
              "    <tr>\n",
              "      <th>3</th>\n",
              "      <td>POSITIVE</td>\n",
              "      <td>0.049383</td>\n",
              "      <td>PAX5</td>\n",
              "    </tr>\n",
              "  </tbody>\n",
              "</table>\n",
              "</div>\n",
              "      <button class=\"colab-df-convert\" onclick=\"convertToInteractive('df-3cc04a9b-2ab3-46a1-84fd-7f9fc323e2da')\"\n",
              "              title=\"Convert this dataframe to an interactive table.\"\n",
              "              style=\"display:none;\">\n",
              "        \n",
              "  <svg xmlns=\"http://www.w3.org/2000/svg\" height=\"24px\"viewBox=\"0 0 24 24\"\n",
              "       width=\"24px\">\n",
              "    <path d=\"M0 0h24v24H0V0z\" fill=\"none\"/>\n",
              "    <path d=\"M18.56 5.44l.94 2.06.94-2.06 2.06-.94-2.06-.94-.94-2.06-.94 2.06-2.06.94zm-11 1L8.5 8.5l.94-2.06 2.06-.94-2.06-.94L8.5 2.5l-.94 2.06-2.06.94zm10 10l.94 2.06.94-2.06 2.06-.94-2.06-.94-.94-2.06-.94 2.06-2.06.94z\"/><path d=\"M17.41 7.96l-1.37-1.37c-.4-.4-.92-.59-1.43-.59-.52 0-1.04.2-1.43.59L10.3 9.45l-7.72 7.72c-.78.78-.78 2.05 0 2.83L4 21.41c.39.39.9.59 1.41.59.51 0 1.02-.2 1.41-.59l7.78-7.78 2.81-2.81c.8-.78.8-2.07 0-2.86zM5.41 20L4 18.59l7.72-7.72 1.47 1.35L5.41 20z\"/>\n",
              "  </svg>\n",
              "      </button>\n",
              "      \n",
              "  <style>\n",
              "    .colab-df-container {\n",
              "      display:flex;\n",
              "      flex-wrap:wrap;\n",
              "      gap: 12px;\n",
              "    }\n",
              "\n",
              "    .colab-df-convert {\n",
              "      background-color: #E8F0FE;\n",
              "      border: none;\n",
              "      border-radius: 50%;\n",
              "      cursor: pointer;\n",
              "      display: none;\n",
              "      fill: #1967D2;\n",
              "      height: 32px;\n",
              "      padding: 0 0 0 0;\n",
              "      width: 32px;\n",
              "    }\n",
              "\n",
              "    .colab-df-convert:hover {\n",
              "      background-color: #E2EBFA;\n",
              "      box-shadow: 0px 1px 2px rgba(60, 64, 67, 0.3), 0px 1px 3px 1px rgba(60, 64, 67, 0.15);\n",
              "      fill: #174EA6;\n",
              "    }\n",
              "\n",
              "    [theme=dark] .colab-df-convert {\n",
              "      background-color: #3B4455;\n",
              "      fill: #D2E3FC;\n",
              "    }\n",
              "\n",
              "    [theme=dark] .colab-df-convert:hover {\n",
              "      background-color: #434B5C;\n",
              "      box-shadow: 0px 1px 3px 1px rgba(0, 0, 0, 0.15);\n",
              "      filter: drop-shadow(0px 1px 2px rgba(0, 0, 0, 0.3));\n",
              "      fill: #FFFFFF;\n",
              "    }\n",
              "  </style>\n",
              "\n",
              "      <script>\n",
              "        const buttonEl =\n",
              "          document.querySelector('#df-3cc04a9b-2ab3-46a1-84fd-7f9fc323e2da button.colab-df-convert');\n",
              "        buttonEl.style.display =\n",
              "          google.colab.kernel.accessAllowed ? 'block' : 'none';\n",
              "\n",
              "        async function convertToInteractive(key) {\n",
              "          const element = document.querySelector('#df-3cc04a9b-2ab3-46a1-84fd-7f9fc323e2da');\n",
              "          const dataTable =\n",
              "            await google.colab.kernel.invokeFunction('convertToInteractive',\n",
              "                                                     [key], {});\n",
              "          if (!dataTable) return;\n",
              "\n",
              "          const docLinkHtml = 'Like what you see? Visit the ' +\n",
              "            '<a target=\"_blank\" href=https://colab.research.google.com/notebooks/data_table.ipynb>data table notebook</a>'\n",
              "            + ' to learn more about interactive tables.';\n",
              "          element.innerHTML = '';\n",
              "          dataTable['output_type'] = 'display_data';\n",
              "          await google.colab.output.renderOutput(dataTable, element);\n",
              "          const docLink = document.createElement('div');\n",
              "          docLink.innerHTML = docLinkHtml;\n",
              "          element.appendChild(docLink);\n",
              "        }\n",
              "      </script>\n",
              "    </div>\n",
              "  </div>\n",
              "  "
            ]
          },
          "metadata": {},
          "execution_count": 308
        }
      ]
    },
    {
      "cell_type": "code",
      "source": [
        "all_counts_b = pd.DataFrame(columns = ['Status','Proportion'])\n",
        "for col in tru_cols:\n",
        "  \n",
        "  df = pd.DataFrame(pr_all_rep[col].value_counts(normalize = True).reset_index().values, columns = ['Status','Proportion'])\n",
        "  df['Marker'] = col\n",
        "\n",
        "  all_counts_b = all_counts_b.append(df[df['Status']=='NEGATIVE']).reset_index(drop=True)\n",
        "all_counts_b  \n"
      ],
      "metadata": {
        "colab": {
          "base_uri": "https://localhost:8080/",
          "height": 175
        },
        "id": "NdPjctCoL7h-",
        "outputId": "9f2cd96e-63b7-4b22-db4e-c0be5ed52a15"
      },
      "execution_count": null,
      "outputs": [
        {
          "output_type": "execute_result",
          "data": {
            "text/plain": [
              "     Status Proportion Marker\n",
              "0  NEGATIVE   0.117284   CD15\n",
              "1  NEGATIVE    0.04321   EBER\n",
              "2  NEGATIVE   0.358025   CD20\n",
              "3  NEGATIVE   0.166667   CD45"
            ],
            "text/html": [
              "\n",
              "  <div id=\"df-f204fe2c-baca-40f1-b3f8-c239d9cb233c\">\n",
              "    <div class=\"colab-df-container\">\n",
              "      <div>\n",
              "<style scoped>\n",
              "    .dataframe tbody tr th:only-of-type {\n",
              "        vertical-align: middle;\n",
              "    }\n",
              "\n",
              "    .dataframe tbody tr th {\n",
              "        vertical-align: top;\n",
              "    }\n",
              "\n",
              "    .dataframe thead th {\n",
              "        text-align: right;\n",
              "    }\n",
              "</style>\n",
              "<table border=\"1\" class=\"dataframe\">\n",
              "  <thead>\n",
              "    <tr style=\"text-align: right;\">\n",
              "      <th></th>\n",
              "      <th>Status</th>\n",
              "      <th>Proportion</th>\n",
              "      <th>Marker</th>\n",
              "    </tr>\n",
              "  </thead>\n",
              "  <tbody>\n",
              "    <tr>\n",
              "      <th>0</th>\n",
              "      <td>NEGATIVE</td>\n",
              "      <td>0.117284</td>\n",
              "      <td>CD15</td>\n",
              "    </tr>\n",
              "    <tr>\n",
              "      <th>1</th>\n",
              "      <td>NEGATIVE</td>\n",
              "      <td>0.04321</td>\n",
              "      <td>EBER</td>\n",
              "    </tr>\n",
              "    <tr>\n",
              "      <th>2</th>\n",
              "      <td>NEGATIVE</td>\n",
              "      <td>0.358025</td>\n",
              "      <td>CD20</td>\n",
              "    </tr>\n",
              "    <tr>\n",
              "      <th>3</th>\n",
              "      <td>NEGATIVE</td>\n",
              "      <td>0.166667</td>\n",
              "      <td>CD45</td>\n",
              "    </tr>\n",
              "  </tbody>\n",
              "</table>\n",
              "</div>\n",
              "      <button class=\"colab-df-convert\" onclick=\"convertToInteractive('df-f204fe2c-baca-40f1-b3f8-c239d9cb233c')\"\n",
              "              title=\"Convert this dataframe to an interactive table.\"\n",
              "              style=\"display:none;\">\n",
              "        \n",
              "  <svg xmlns=\"http://www.w3.org/2000/svg\" height=\"24px\"viewBox=\"0 0 24 24\"\n",
              "       width=\"24px\">\n",
              "    <path d=\"M0 0h24v24H0V0z\" fill=\"none\"/>\n",
              "    <path d=\"M18.56 5.44l.94 2.06.94-2.06 2.06-.94-2.06-.94-.94-2.06-.94 2.06-2.06.94zm-11 1L8.5 8.5l.94-2.06 2.06-.94-2.06-.94L8.5 2.5l-.94 2.06-2.06.94zm10 10l.94 2.06.94-2.06 2.06-.94-2.06-.94-.94-2.06-.94 2.06-2.06.94z\"/><path d=\"M17.41 7.96l-1.37-1.37c-.4-.4-.92-.59-1.43-.59-.52 0-1.04.2-1.43.59L10.3 9.45l-7.72 7.72c-.78.78-.78 2.05 0 2.83L4 21.41c.39.39.9.59 1.41.59.51 0 1.02-.2 1.41-.59l7.78-7.78 2.81-2.81c.8-.78.8-2.07 0-2.86zM5.41 20L4 18.59l7.72-7.72 1.47 1.35L5.41 20z\"/>\n",
              "  </svg>\n",
              "      </button>\n",
              "      \n",
              "  <style>\n",
              "    .colab-df-container {\n",
              "      display:flex;\n",
              "      flex-wrap:wrap;\n",
              "      gap: 12px;\n",
              "    }\n",
              "\n",
              "    .colab-df-convert {\n",
              "      background-color: #E8F0FE;\n",
              "      border: none;\n",
              "      border-radius: 50%;\n",
              "      cursor: pointer;\n",
              "      display: none;\n",
              "      fill: #1967D2;\n",
              "      height: 32px;\n",
              "      padding: 0 0 0 0;\n",
              "      width: 32px;\n",
              "    }\n",
              "\n",
              "    .colab-df-convert:hover {\n",
              "      background-color: #E2EBFA;\n",
              "      box-shadow: 0px 1px 2px rgba(60, 64, 67, 0.3), 0px 1px 3px 1px rgba(60, 64, 67, 0.15);\n",
              "      fill: #174EA6;\n",
              "    }\n",
              "\n",
              "    [theme=dark] .colab-df-convert {\n",
              "      background-color: #3B4455;\n",
              "      fill: #D2E3FC;\n",
              "    }\n",
              "\n",
              "    [theme=dark] .colab-df-convert:hover {\n",
              "      background-color: #434B5C;\n",
              "      box-shadow: 0px 1px 3px 1px rgba(0, 0, 0, 0.15);\n",
              "      filter: drop-shadow(0px 1px 2px rgba(0, 0, 0, 0.3));\n",
              "      fill: #FFFFFF;\n",
              "    }\n",
              "  </style>\n",
              "\n",
              "      <script>\n",
              "        const buttonEl =\n",
              "          document.querySelector('#df-f204fe2c-baca-40f1-b3f8-c239d9cb233c button.colab-df-convert');\n",
              "        buttonEl.style.display =\n",
              "          google.colab.kernel.accessAllowed ? 'block' : 'none';\n",
              "\n",
              "        async function convertToInteractive(key) {\n",
              "          const element = document.querySelector('#df-f204fe2c-baca-40f1-b3f8-c239d9cb233c');\n",
              "          const dataTable =\n",
              "            await google.colab.kernel.invokeFunction('convertToInteractive',\n",
              "                                                     [key], {});\n",
              "          if (!dataTable) return;\n",
              "\n",
              "          const docLinkHtml = 'Like what you see? Visit the ' +\n",
              "            '<a target=\"_blank\" href=https://colab.research.google.com/notebooks/data_table.ipynb>data table notebook</a>'\n",
              "            + ' to learn more about interactive tables.';\n",
              "          element.innerHTML = '';\n",
              "          dataTable['output_type'] = 'display_data';\n",
              "          await google.colab.output.renderOutput(dataTable, element);\n",
              "          const docLink = document.createElement('div');\n",
              "          docLink.innerHTML = docLinkHtml;\n",
              "          element.appendChild(docLink);\n",
              "        }\n",
              "      </script>\n",
              "    </div>\n",
              "  </div>\n",
              "  "
            ]
          },
          "metadata": {},
          "execution_count": 309
        }
      ]
    },
    {
      "cell_type": "code",
      "source": [
        "all_counts = pd.DataFrame(columns = ['Status','Proportion'])\n",
        "for col in tru_cols:\n",
        "  \n",
        "  df = pd.DataFrame(pr_all_rep_true[col].value_counts(normalize = True).reset_index().values, columns = ['Status','Proportion'])\n",
        "  df['Marker'] = col\n",
        "\n",
        "  all_counts = all_counts.append(df[df['Status']=='POSITIVE']).reset_index(drop=True)\n",
        "all_counts  "
      ],
      "metadata": {
        "colab": {
          "base_uri": "https://localhost:8080/",
          "height": 206
        },
        "id": "4kFE3ecML_8a",
        "outputId": "44b2af1d-fdf5-42e8-bf3a-92d2b24e29e1"
      },
      "execution_count": null,
      "outputs": [
        {
          "output_type": "execute_result",
          "data": {
            "text/plain": [
              "     Status Proportion Marker\n",
              "0  POSITIVE   0.765432   CD15\n",
              "1  POSITIVE        1.0   CD30\n",
              "2  POSITIVE   0.302469   EBER\n",
              "3  POSITIVE   0.185185   CD20\n",
              "4  POSITIVE   0.944444   PAX5"
            ],
            "text/html": [
              "\n",
              "  <div id=\"df-b582422e-0543-46ea-ab00-5fa59f820128\">\n",
              "    <div class=\"colab-df-container\">\n",
              "      <div>\n",
              "<style scoped>\n",
              "    .dataframe tbody tr th:only-of-type {\n",
              "        vertical-align: middle;\n",
              "    }\n",
              "\n",
              "    .dataframe tbody tr th {\n",
              "        vertical-align: top;\n",
              "    }\n",
              "\n",
              "    .dataframe thead th {\n",
              "        text-align: right;\n",
              "    }\n",
              "</style>\n",
              "<table border=\"1\" class=\"dataframe\">\n",
              "  <thead>\n",
              "    <tr style=\"text-align: right;\">\n",
              "      <th></th>\n",
              "      <th>Status</th>\n",
              "      <th>Proportion</th>\n",
              "      <th>Marker</th>\n",
              "    </tr>\n",
              "  </thead>\n",
              "  <tbody>\n",
              "    <tr>\n",
              "      <th>0</th>\n",
              "      <td>POSITIVE</td>\n",
              "      <td>0.765432</td>\n",
              "      <td>CD15</td>\n",
              "    </tr>\n",
              "    <tr>\n",
              "      <th>1</th>\n",
              "      <td>POSITIVE</td>\n",
              "      <td>1.0</td>\n",
              "      <td>CD30</td>\n",
              "    </tr>\n",
              "    <tr>\n",
              "      <th>2</th>\n",
              "      <td>POSITIVE</td>\n",
              "      <td>0.302469</td>\n",
              "      <td>EBER</td>\n",
              "    </tr>\n",
              "    <tr>\n",
              "      <th>3</th>\n",
              "      <td>POSITIVE</td>\n",
              "      <td>0.185185</td>\n",
              "      <td>CD20</td>\n",
              "    </tr>\n",
              "    <tr>\n",
              "      <th>4</th>\n",
              "      <td>POSITIVE</td>\n",
              "      <td>0.944444</td>\n",
              "      <td>PAX5</td>\n",
              "    </tr>\n",
              "  </tbody>\n",
              "</table>\n",
              "</div>\n",
              "      <button class=\"colab-df-convert\" onclick=\"convertToInteractive('df-b582422e-0543-46ea-ab00-5fa59f820128')\"\n",
              "              title=\"Convert this dataframe to an interactive table.\"\n",
              "              style=\"display:none;\">\n",
              "        \n",
              "  <svg xmlns=\"http://www.w3.org/2000/svg\" height=\"24px\"viewBox=\"0 0 24 24\"\n",
              "       width=\"24px\">\n",
              "    <path d=\"M0 0h24v24H0V0z\" fill=\"none\"/>\n",
              "    <path d=\"M18.56 5.44l.94 2.06.94-2.06 2.06-.94-2.06-.94-.94-2.06-.94 2.06-2.06.94zm-11 1L8.5 8.5l.94-2.06 2.06-.94-2.06-.94L8.5 2.5l-.94 2.06-2.06.94zm10 10l.94 2.06.94-2.06 2.06-.94-2.06-.94-.94-2.06-.94 2.06-2.06.94z\"/><path d=\"M17.41 7.96l-1.37-1.37c-.4-.4-.92-.59-1.43-.59-.52 0-1.04.2-1.43.59L10.3 9.45l-7.72 7.72c-.78.78-.78 2.05 0 2.83L4 21.41c.39.39.9.59 1.41.59.51 0 1.02-.2 1.41-.59l7.78-7.78 2.81-2.81c.8-.78.8-2.07 0-2.86zM5.41 20L4 18.59l7.72-7.72 1.47 1.35L5.41 20z\"/>\n",
              "  </svg>\n",
              "      </button>\n",
              "      \n",
              "  <style>\n",
              "    .colab-df-container {\n",
              "      display:flex;\n",
              "      flex-wrap:wrap;\n",
              "      gap: 12px;\n",
              "    }\n",
              "\n",
              "    .colab-df-convert {\n",
              "      background-color: #E8F0FE;\n",
              "      border: none;\n",
              "      border-radius: 50%;\n",
              "      cursor: pointer;\n",
              "      display: none;\n",
              "      fill: #1967D2;\n",
              "      height: 32px;\n",
              "      padding: 0 0 0 0;\n",
              "      width: 32px;\n",
              "    }\n",
              "\n",
              "    .colab-df-convert:hover {\n",
              "      background-color: #E2EBFA;\n",
              "      box-shadow: 0px 1px 2px rgba(60, 64, 67, 0.3), 0px 1px 3px 1px rgba(60, 64, 67, 0.15);\n",
              "      fill: #174EA6;\n",
              "    }\n",
              "\n",
              "    [theme=dark] .colab-df-convert {\n",
              "      background-color: #3B4455;\n",
              "      fill: #D2E3FC;\n",
              "    }\n",
              "\n",
              "    [theme=dark] .colab-df-convert:hover {\n",
              "      background-color: #434B5C;\n",
              "      box-shadow: 0px 1px 3px 1px rgba(0, 0, 0, 0.15);\n",
              "      filter: drop-shadow(0px 1px 2px rgba(0, 0, 0, 0.3));\n",
              "      fill: #FFFFFF;\n",
              "    }\n",
              "  </style>\n",
              "\n",
              "      <script>\n",
              "        const buttonEl =\n",
              "          document.querySelector('#df-b582422e-0543-46ea-ab00-5fa59f820128 button.colab-df-convert');\n",
              "        buttonEl.style.display =\n",
              "          google.colab.kernel.accessAllowed ? 'block' : 'none';\n",
              "\n",
              "        async function convertToInteractive(key) {\n",
              "          const element = document.querySelector('#df-b582422e-0543-46ea-ab00-5fa59f820128');\n",
              "          const dataTable =\n",
              "            await google.colab.kernel.invokeFunction('convertToInteractive',\n",
              "                                                     [key], {});\n",
              "          if (!dataTable) return;\n",
              "\n",
              "          const docLinkHtml = 'Like what you see? Visit the ' +\n",
              "            '<a target=\"_blank\" href=https://colab.research.google.com/notebooks/data_table.ipynb>data table notebook</a>'\n",
              "            + ' to learn more about interactive tables.';\n",
              "          element.innerHTML = '';\n",
              "          dataTable['output_type'] = 'display_data';\n",
              "          await google.colab.output.renderOutput(dataTable, element);\n",
              "          const docLink = document.createElement('div');\n",
              "          docLink.innerHTML = docLinkHtml;\n",
              "          element.appendChild(docLink);\n",
              "        }\n",
              "      </script>\n",
              "    </div>\n",
              "  </div>\n",
              "  "
            ]
          },
          "metadata": {},
          "execution_count": 310
        }
      ]
    },
    {
      "cell_type": "code",
      "source": [
        "all_counts = pd.DataFrame(columns = ['Status','Proportion'])\n",
        "for col in tru_cols:\n",
        "  \n",
        "  df = pd.DataFrame(pr_all_rep_true[col].value_counts(normalize = True).reset_index().values, columns = ['Status','Proportion'])\n",
        "  df['Marker'] = col\n",
        "\n",
        "  all_counts = all_counts.append(df[df['Status']=='NEGATIVE']).reset_index(drop=True)\n",
        "all_counts  "
      ],
      "metadata": {
        "colab": {
          "base_uri": "https://localhost:8080/",
          "height": 206
        },
        "id": "fzVpSUTvMJU8",
        "outputId": "ae0bfdd5-873b-481a-8b9d-3ee742c5173a"
      },
      "execution_count": null,
      "outputs": [
        {
          "output_type": "execute_result",
          "data": {
            "text/plain": [
              "     Status Proportion Marker\n",
              "0  NEGATIVE   0.197531   CD15\n",
              "1  NEGATIVE   0.604938   EBER\n",
              "2  NEGATIVE   0.796296   CD20\n",
              "3  NEGATIVE   0.407407   CD45\n",
              "4  NEGATIVE   0.024691   PAX5"
            ],
            "text/html": [
              "\n",
              "  <div id=\"df-d8e5881f-789b-4497-8387-553d44985174\">\n",
              "    <div class=\"colab-df-container\">\n",
              "      <div>\n",
              "<style scoped>\n",
              "    .dataframe tbody tr th:only-of-type {\n",
              "        vertical-align: middle;\n",
              "    }\n",
              "\n",
              "    .dataframe tbody tr th {\n",
              "        vertical-align: top;\n",
              "    }\n",
              "\n",
              "    .dataframe thead th {\n",
              "        text-align: right;\n",
              "    }\n",
              "</style>\n",
              "<table border=\"1\" class=\"dataframe\">\n",
              "  <thead>\n",
              "    <tr style=\"text-align: right;\">\n",
              "      <th></th>\n",
              "      <th>Status</th>\n",
              "      <th>Proportion</th>\n",
              "      <th>Marker</th>\n",
              "    </tr>\n",
              "  </thead>\n",
              "  <tbody>\n",
              "    <tr>\n",
              "      <th>0</th>\n",
              "      <td>NEGATIVE</td>\n",
              "      <td>0.197531</td>\n",
              "      <td>CD15</td>\n",
              "    </tr>\n",
              "    <tr>\n",
              "      <th>1</th>\n",
              "      <td>NEGATIVE</td>\n",
              "      <td>0.604938</td>\n",
              "      <td>EBER</td>\n",
              "    </tr>\n",
              "    <tr>\n",
              "      <th>2</th>\n",
              "      <td>NEGATIVE</td>\n",
              "      <td>0.796296</td>\n",
              "      <td>CD20</td>\n",
              "    </tr>\n",
              "    <tr>\n",
              "      <th>3</th>\n",
              "      <td>NEGATIVE</td>\n",
              "      <td>0.407407</td>\n",
              "      <td>CD45</td>\n",
              "    </tr>\n",
              "    <tr>\n",
              "      <th>4</th>\n",
              "      <td>NEGATIVE</td>\n",
              "      <td>0.024691</td>\n",
              "      <td>PAX5</td>\n",
              "    </tr>\n",
              "  </tbody>\n",
              "</table>\n",
              "</div>\n",
              "      <button class=\"colab-df-convert\" onclick=\"convertToInteractive('df-d8e5881f-789b-4497-8387-553d44985174')\"\n",
              "              title=\"Convert this dataframe to an interactive table.\"\n",
              "              style=\"display:none;\">\n",
              "        \n",
              "  <svg xmlns=\"http://www.w3.org/2000/svg\" height=\"24px\"viewBox=\"0 0 24 24\"\n",
              "       width=\"24px\">\n",
              "    <path d=\"M0 0h24v24H0V0z\" fill=\"none\"/>\n",
              "    <path d=\"M18.56 5.44l.94 2.06.94-2.06 2.06-.94-2.06-.94-.94-2.06-.94 2.06-2.06.94zm-11 1L8.5 8.5l.94-2.06 2.06-.94-2.06-.94L8.5 2.5l-.94 2.06-2.06.94zm10 10l.94 2.06.94-2.06 2.06-.94-2.06-.94-.94-2.06-.94 2.06-2.06.94z\"/><path d=\"M17.41 7.96l-1.37-1.37c-.4-.4-.92-.59-1.43-.59-.52 0-1.04.2-1.43.59L10.3 9.45l-7.72 7.72c-.78.78-.78 2.05 0 2.83L4 21.41c.39.39.9.59 1.41.59.51 0 1.02-.2 1.41-.59l7.78-7.78 2.81-2.81c.8-.78.8-2.07 0-2.86zM5.41 20L4 18.59l7.72-7.72 1.47 1.35L5.41 20z\"/>\n",
              "  </svg>\n",
              "      </button>\n",
              "      \n",
              "  <style>\n",
              "    .colab-df-container {\n",
              "      display:flex;\n",
              "      flex-wrap:wrap;\n",
              "      gap: 12px;\n",
              "    }\n",
              "\n",
              "    .colab-df-convert {\n",
              "      background-color: #E8F0FE;\n",
              "      border: none;\n",
              "      border-radius: 50%;\n",
              "      cursor: pointer;\n",
              "      display: none;\n",
              "      fill: #1967D2;\n",
              "      height: 32px;\n",
              "      padding: 0 0 0 0;\n",
              "      width: 32px;\n",
              "    }\n",
              "\n",
              "    .colab-df-convert:hover {\n",
              "      background-color: #E2EBFA;\n",
              "      box-shadow: 0px 1px 2px rgba(60, 64, 67, 0.3), 0px 1px 3px 1px rgba(60, 64, 67, 0.15);\n",
              "      fill: #174EA6;\n",
              "    }\n",
              "\n",
              "    [theme=dark] .colab-df-convert {\n",
              "      background-color: #3B4455;\n",
              "      fill: #D2E3FC;\n",
              "    }\n",
              "\n",
              "    [theme=dark] .colab-df-convert:hover {\n",
              "      background-color: #434B5C;\n",
              "      box-shadow: 0px 1px 3px 1px rgba(0, 0, 0, 0.15);\n",
              "      filter: drop-shadow(0px 1px 2px rgba(0, 0, 0, 0.3));\n",
              "      fill: #FFFFFF;\n",
              "    }\n",
              "  </style>\n",
              "\n",
              "      <script>\n",
              "        const buttonEl =\n",
              "          document.querySelector('#df-d8e5881f-789b-4497-8387-553d44985174 button.colab-df-convert');\n",
              "        buttonEl.style.display =\n",
              "          google.colab.kernel.accessAllowed ? 'block' : 'none';\n",
              "\n",
              "        async function convertToInteractive(key) {\n",
              "          const element = document.querySelector('#df-d8e5881f-789b-4497-8387-553d44985174');\n",
              "          const dataTable =\n",
              "            await google.colab.kernel.invokeFunction('convertToInteractive',\n",
              "                                                     [key], {});\n",
              "          if (!dataTable) return;\n",
              "\n",
              "          const docLinkHtml = 'Like what you see? Visit the ' +\n",
              "            '<a target=\"_blank\" href=https://colab.research.google.com/notebooks/data_table.ipynb>data table notebook</a>'\n",
              "            + ' to learn more about interactive tables.';\n",
              "          element.innerHTML = '';\n",
              "          dataTable['output_type'] = 'display_data';\n",
              "          await google.colab.output.renderOutput(dataTable, element);\n",
              "          const docLink = document.createElement('div');\n",
              "          docLink.innerHTML = docLinkHtml;\n",
              "          element.appendChild(docLink);\n",
              "        }\n",
              "      </script>\n",
              "    </div>\n",
              "  </div>\n",
              "  "
            ]
          },
          "metadata": {},
          "execution_count": 311
        }
      ]
    }
  ],
  "metadata": {
    "colab": {
      "collapsed_sections": [],
      "provenance": [],
      "authorship_tag": "ABX9TyOVYwYc9m5ddSqv0HwHaWgW",
      "include_colab_link": true
    },
    "kernelspec": {
      "display_name": "Python 3",
      "name": "python3"
    },
    "language_info": {
      "name": "python"
    }
  },
  "nbformat": 4,
  "nbformat_minor": 0
}